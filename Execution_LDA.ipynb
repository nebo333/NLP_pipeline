{
 "cells": [
  {
   "cell_type": "code",
   "execution_count": 1,
   "metadata": {},
   "outputs": [],
   "source": [
    "from ipynb.fs.full.Preproc_pipeline_Text import *\n",
    "\n",
    "from ipynb.fs.full.Algo_LDA_w_textnormer import *"
   ]
  },
  {
   "cell_type": "code",
   "execution_count": 4,
   "metadata": {},
   "outputs": [],
   "source": [
    "pic_root = '/Users/nebo333/Documents/Pickled files/'\n",
    "cat_pattern = r'rec[\\w]+.*' ## limiting to just rec categories. Reduces # of labels and volume\n"
   ]
  },
  {
   "cell_type": "code",
   "execution_count": 5,
   "metadata": {
    "collapsed": true
   },
   "outputs": [
    {
     "name": "stdout",
     "output_type": "stream",
     "text": [
      "Topic #1:\n",
      "['dod', 'write', 'pt', 'bike', 'article', 'like', 'know', 'time']\n",
      "Topic #2:\n",
      "['game', 'write', 'baseball', 'time', 'know', 'article', 'watch', 'think']\n",
      "Topic #3:\n",
      "['car', 'write', 'article', 'think', 'like', 'convertible', 'alarm', 'kill']\n",
      "Topic #4:\n",
      "['write', 'list', 'like', 'article', 'look', 'area', 'know', 'think']\n",
      "Topic #5:\n",
      "['bmw', 'write', 'article', 'moa', 'ticket', 'know', 'right', 'nick']\n",
      "Topic #6:\n",
      "['game', 'goal', 'play', 'get', 'puck', 'penalty', 'go', 'write']\n",
      "Topic #7:\n",
      "['team', 'spanish', 'hockey', 'sheffield', 'frank', 'andrew', 'scott', 'pitcher']\n",
      "Topic #8:\n",
      "['car', 'engine', 'oil', 'like', 'problem', 'buy', 'write', 'mile']\n",
      "Topic #9:\n",
      "['car', 'tire', 'brake', 'speed', 'gant', 'drive', 'radar', 'new']\n",
      "Topic #10:\n",
      "['dog', 'write', 'bike', 'article', 'like', 'think', 'turn', 'know']\n",
      "Topic #11:\n",
      "['bike', 'write', 'helmet', 'article', 'ride', 'jewish', 'lock', 'dod']\n",
      "Topic #12:\n",
      "['braves', 'year', 'giants', 'team', 'game', 'write', 'san', 'phillies']\n",
      "Topic #13:\n",
      "['bike', 'write', 'car', 'article', 'buy', 'know', 'look', 'like']\n",
      "Topic #14:\n",
      "['like', 'think', 'write', 'car', 'know', 'year', 'look', 'good']\n",
      "Topic #15:\n",
      "['run', 'write', 'hit', 'year', 'game', 'player', 'article', 'think']\n",
      "Topic #16:\n",
      "['la', 'period', 'det', 'bos', 'tor', 'chi', 'van', 'pit']\n",
      "Topic #17:\n",
      "['drive', 'list', 'article', 'clutch', 'write', 'shaft', 'car', 'shift']\n",
      "Topic #18:\n",
      "['team', 'year', 'player', 'play', 'game', 'season', 'win', 'nhl']\n",
      "Topic #19:\n",
      "['write', 'clutch', 'article', 'year', 'hit', 'think', 'average', 'diesel']\n",
      "Topic #20:\n",
      "['game', 'hockey', 'v', 'playoff', 'gm', 'espn', 'bruins', 'fan']\n"
     ]
    }
   ],
   "source": [
    "if __name__ == '__main__':\n",
    "    pic_corpus = TextPickledCorpusReader(pic_root, cat_pattern)\n",
    "\n",
    "    lda       = SklearnTopicModels()\n",
    "    documents = pic_corpus.docs()\n",
    "\n",
    "    lda.fit_transform(documents)\n",
    "    topics = lda.get_topics()\n",
    "    for topic, terms in topics.items():\n",
    "        print(\"Topic #{}:\".format(topic+1))\n",
    "        print(terms)"
   ]
  },
  {
   "cell_type": "code",
   "execution_count": null,
   "metadata": {},
   "outputs": [],
   "source": []
  }
 ],
 "metadata": {
  "kernelspec": {
   "display_name": "Python 3",
   "language": "python",
   "name": "python3"
  },
  "language_info": {
   "codemirror_mode": {
    "name": "ipython",
    "version": 3
   },
   "file_extension": ".py",
   "mimetype": "text/x-python",
   "name": "python",
   "nbconvert_exporter": "python",
   "pygments_lexer": "ipython3",
   "version": "3.7.4"
  }
 },
 "nbformat": 4,
 "nbformat_minor": 2
}
