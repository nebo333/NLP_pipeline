{
 "cells": [
  {
   "cell_type": "code",
   "execution_count": 11,
   "metadata": {},
   "outputs": [],
   "source": [
    "from sklearn.pipeline import Pipeline\n",
    "from sklearn.decomposition import TruncatedSVD\n",
    "from sklearn.feature_extraction.text import TfidfVectorizer\n",
    "\n",
    "from sklearn.linear_model import LogisticRegression\n",
    "from sklearn.naive_bayes import MultinomialNB\n",
    "from sklearn.linear_model import SGDClassifier\n",
    "\n",
    "import tabulate\n",
    "import numpy as np\n",
    "\n",
    "from collections import defaultdict\n",
    "from sklearn.metrics import accuracy_score, f1_score\n",
    "from sklearn.metrics import precision_score, recall_score\n",
    "from sklearn.metrics import classification_report"
   ]
  },
  {
   "cell_type": "code",
   "execution_count": 5,
   "metadata": {},
   "outputs": [
    {
     "name": "stderr",
     "output_type": "stream",
     "text": [
      "[nltk_data] Error loading stopwords: <urlopen error [Errno 8] nodename\n",
      "[nltk_data]     nor servname provided, or not known>\n",
      "[nltk_data] Error loading wordnet: <urlopen error [Errno 8] nodename\n",
      "[nltk_data]     nor servname provided, or not known>\n"
     ]
    }
   ],
   "source": [
    "from ipynb.fs.full.Preproc_pipeline_Text import *\n",
    "\n",
    "from ipynb.fs.full.Algo_classifier_w_textnormer_and_vectorizer import *\n",
    "\n",
    "from ipynb.fs.full.Kfold_class import *"
   ]
  },
  {
   "cell_type": "code",
   "execution_count": 6,
   "metadata": {},
   "outputs": [],
   "source": [
    "def identity(words):\n",
    "    return words\n",
    "\n",
    "def create_pipeline(estimator, reduction=False):\n",
    "\n",
    "    steps = [\n",
    "        ('normalize', TextNormalizer()),\n",
    "        ('vectorize', TfidfVectorizer(\n",
    "            tokenizer=identity, preprocessor=None, lowercase=False\n",
    "        ))\n",
    "    ]\n",
    "\n",
    "    if reduction:\n",
    "        steps.append((\n",
    "            'reduction', TruncatedSVD(n_components=10000)\n",
    "        ))\n",
    "        \n",
    "    # Add the estimator\n",
    "    steps.append(('classifier', estimator))\n",
    "    return Pipeline(steps)"
   ]
  },
  {
   "cell_type": "code",
   "execution_count": 7,
   "metadata": {},
   "outputs": [],
   "source": [
    "estimator_ls = [LogisticRegression(multi_class='ovr',solver='saga'),MultinomialNB(), SGDClassifier()]\n",
    "\n",
    "models = []\n",
    "for model in estimator_ls:\n",
    "    #models.append(create_pipeline(model, True)) ## Returns a negative vector value\n",
    "    models.append(create_pipeline(model, False))"
   ]
  },
  {
   "cell_type": "code",
   "execution_count": 8,
   "metadata": {},
   "outputs": [],
   "source": [
    "pic_root = '/Users/nebo333/Documents/Pickled files/'\n",
    "cat_pattern = r'rec[\\w]+.*' ## limiting to just rec categories. Reduces # of labels and volume\n",
    "pic_corpus = TextPickledCorpusReader(pic_root, cat_pattern)\n",
    "model_loader = kfold_CorpusLoader(pic_corpus)\n",
    "\n",
    "labels = pic_corpus.categories()"
   ]
  },
  {
   "cell_type": "code",
   "execution_count": 12,
   "metadata": {},
   "outputs": [
    {
     "name": "stdout",
     "output_type": "stream",
     "text": [
      "Accuracy of LogisticRegression is 0.978\n",
      "Accuracy of MultinomialNB is 0.980\n",
      "Accuracy of SGDClassifier is 0.985\n"
     ]
    }
   ],
   "source": [
    "## Show summary model performance by model\n",
    "\n",
    "for model in models:\n",
    "    scores = [] # Store a list of scores for each split\n",
    "    model_name = str(model.get_params().get('classifier'))\n",
    "    model_name = model_name.split('(')\n",
    "    model_name = model_name[0]\n",
    "\n",
    "    for X_train, X_test, y_train, y_test in model_loader:\n",
    "        model.fit(X_train, y_train)\n",
    "        y_pred = model.predict(X_test)\n",
    "        score  = accuracy_score(y_test, y_pred)\n",
    "        scores.append(score)\n",
    "\n",
    "    print(\"Accuracy of {} is {:0.3f}\".format(model_name, np.mean(scores)))"
   ]
  },
  {
   "cell_type": "code",
   "execution_count": 13,
   "metadata": {},
   "outputs": [
    {
     "name": "stdout",
     "output_type": "stream",
     "text": [
      "                  precision    recall  f1-score   support\n",
      "\n",
      "        recautos       0.91      0.95      0.93        62\n",
      "  recmotorcycles       0.95      0.94      0.94        93\n",
      "recsportbaseball       0.99      0.99      0.99        85\n",
      "  recsporthockey       1.00      0.98      0.99        91\n",
      "\n",
      "        accuracy                           0.96       331\n",
      "       macro avg       0.96      0.96      0.96       331\n",
      "    weighted avg       0.96      0.96      0.96       331\n",
      "\n"
     ]
    }
   ],
   "source": [
    "## Show overall accuracy by category / label\n",
    "\n",
    "model = create_pipeline(LogisticRegression(multi_class='ovr',solver='saga'), False)\n",
    "for X_train, X_test, y_train, y_test in model_loader:\n",
    "    model.fit(X_train, y_train)\n",
    "\n",
    "y_pred = model.predict(X_test)\n",
    "print(classification_report(y_test, y_pred, labels=labels))"
   ]
  },
  {
   "cell_type": "code",
   "execution_count": 14,
   "metadata": {},
   "outputs": [
    {
     "name": "stdout",
     "output_type": "stream",
     "text": [
      "model                 precision    recall    accuracy        f1\n",
      "------------------  -----------  --------  ----------  --------\n",
      "SGDClassifier          0.983238  0.983158    0.983158  0.983139\n",
      "MultinomialNB          0.982132  0.9819      0.9819    0.9819\n",
      "LogisticRegression     0.977728  0.977366    0.977366  0.977409\n"
     ]
    }
   ],
   "source": [
    "## Show detailed model performance by model\n",
    "\n",
    "fields = ['model', 'precision', 'recall', 'accuracy', 'f1']\n",
    "table  = []\n",
    "\n",
    "for model in models:\n",
    "    scores = defaultdict(list) # storage for all our model metrics\n",
    "\n",
    "    # k-fold cross-validation\n",
    "    for X_train, X_test, y_train, y_test in model_loader:\n",
    "        model.fit(X_train, y_train)\n",
    "        y_pred = model.predict(X_test)\n",
    "\n",
    "        # Add scores to our scores\n",
    "        scores['precision'].append(precision_score(y_test, y_pred, average='weighted'))\n",
    "        scores['recall'].append(recall_score(y_test, y_pred, average='weighted'))\n",
    "        scores['accuracy'].append(accuracy_score(y_test, y_pred))\n",
    "        scores['f1'].append(f1_score(y_test, y_pred, average='weighted'))\n",
    "\n",
    "    # Aggregate our scores and add to the table.\n",
    "    model_name = str(model.get_params().get('classifier'))\n",
    "    model_name = model_name.split('(')\n",
    "    model_name = model_name[0]\n",
    "    row = [str(model_name)]\n",
    "    for field in fields[1:]:\n",
    "        row.append(np.mean(scores[field]))\n",
    "\n",
    "    table.append(row)\n",
    "\n",
    "# Sort the models by F1 score descending\n",
    "table.sort(key=lambda row: row[-1], reverse=True)\n",
    "print(tabulate.tabulate(table, headers=fields))"
   ]
  },
  {
   "cell_type": "code",
   "execution_count": null,
   "metadata": {},
   "outputs": [],
   "source": []
  }
 ],
 "metadata": {
  "kernelspec": {
   "display_name": "Python 3",
   "language": "python",
   "name": "python3"
  },
  "language_info": {
   "codemirror_mode": {
    "name": "ipython",
    "version": 3
   },
   "file_extension": ".py",
   "mimetype": "text/x-python",
   "name": "python",
   "nbconvert_exporter": "python",
   "pygments_lexer": "ipython3",
   "version": "3.7.4"
  }
 },
 "nbformat": 4,
 "nbformat_minor": 2
}
